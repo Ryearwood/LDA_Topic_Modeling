{
 "cells": [
  {
   "cell_type": "code",
   "execution_count": 1,
   "id": "7b10f84d-ad1a-47d0-9c22-635fcc624089",
   "metadata": {},
   "outputs": [],
   "source": [
    "# Load Libraries and packages\n",
    "import numpy as np\n",
    "import pandas as pd\n",
    "\n",
    "# Extractive Text Summarizer Libraries\n",
    "from sumy.parsers.plaintext import PlaintextParser\n",
    "from sumy.nlp.tokenizers import Tokenizer\n",
    "from sumy.summarizers.lex_rank import LexRankSummarizer\n",
    "from sumy.summarizers.lsa import LsaSummarizer\n",
    "from sumy.summarizers.luhn import LuhnSummarizer\n",
    "from sumy.summarizers.kl import KLSummarizer\n",
    "\n",
    "# Abstractive Text Summarizers\n",
    "## T5 Models\n",
    "from transformers import T5Tokenizer, T5Config, T5ForConditionalGeneration\n",
    "## BART Model\n",
    "from transformers import BartForConditionalGeneration, BartTokenizer, BartConfig\n",
    "## GPT-2 Model\n",
    "from transformers import GPT2Tokenizer,GPT2LMHeadModel"
   ]
  },
  {
   "cell_type": "code",
   "execution_count": 2,
   "id": "e1dec6dd-8aa9-4a48-b52a-353ba631d52a",
   "metadata": {},
   "outputs": [
    {
     "data": {
      "text/html": [
       "<div>\n",
       "<style scoped>\n",
       "    .dataframe tbody tr th:only-of-type {\n",
       "        vertical-align: middle;\n",
       "    }\n",
       "\n",
       "    .dataframe tbody tr th {\n",
       "        vertical-align: top;\n",
       "    }\n",
       "\n",
       "    .dataframe thead th {\n",
       "        text-align: right;\n",
       "    }\n",
       "</style>\n",
       "<table border=\"1\" class=\"dataframe\">\n",
       "  <thead>\n",
       "    <tr style=\"text-align: right;\">\n",
       "      <th></th>\n",
       "      <th>Document_No</th>\n",
       "      <th>Dominant_Topic</th>\n",
       "      <th>Topic_Keywords</th>\n",
       "      <th>Text</th>\n",
       "    </tr>\n",
       "  </thead>\n",
       "  <tbody>\n",
       "    <tr>\n",
       "      <th>0</th>\n",
       "      <td>0</td>\n",
       "      <td>9.0</td>\n",
       "      <td>car, call, company, tell, work, would, say, da...</td>\n",
       "      <td>Giving this location a low rating only because...</td>\n",
       "    </tr>\n",
       "    <tr>\n",
       "      <th>1</th>\n",
       "      <td>1</td>\n",
       "      <td>3.0</td>\n",
       "      <td>order, wait, ask, say, minute, table, take, te...</td>\n",
       "      <td>I'll start off by saying that this was my favo...</td>\n",
       "    </tr>\n",
       "    <tr>\n",
       "      <th>2</th>\n",
       "      <td>2</td>\n",
       "      <td>3.0</td>\n",
       "      <td>order, wait, ask, say, minute, table, take, te...</td>\n",
       "      <td>The mille crepe cake my sister gifted me for m...</td>\n",
       "    </tr>\n",
       "    <tr>\n",
       "      <th>3</th>\n",
       "      <td>3</td>\n",
       "      <td>7.0</td>\n",
       "      <td>pizza, restaurant, love, service, bar, order, ...</td>\n",
       "      <td>Go someplace else there are better hotels in t...</td>\n",
       "    </tr>\n",
       "    <tr>\n",
       "      <th>4</th>\n",
       "      <td>4</td>\n",
       "      <td>9.0</td>\n",
       "      <td>car, call, company, tell, work, would, say, da...</td>\n",
       "      <td>Used them a number of years ago and they were ...</td>\n",
       "    </tr>\n",
       "  </tbody>\n",
       "</table>\n",
       "</div>"
      ],
      "text/plain": [
       "   Document_No  Dominant_Topic  \\\n",
       "0            0             9.0   \n",
       "1            1             3.0   \n",
       "2            2             3.0   \n",
       "3            3             7.0   \n",
       "4            4             9.0   \n",
       "\n",
       "                                      Topic_Keywords  \\\n",
       "0  car, call, company, tell, work, would, say, da...   \n",
       "1  order, wait, ask, say, minute, table, take, te...   \n",
       "2  order, wait, ask, say, minute, table, take, te...   \n",
       "3  pizza, restaurant, love, service, bar, order, ...   \n",
       "4  car, call, company, tell, work, would, say, da...   \n",
       "\n",
       "                                                Text  \n",
       "0  Giving this location a low rating only because...  \n",
       "1  I'll start off by saying that this was my favo...  \n",
       "2  The mille crepe cake my sister gifted me for m...  \n",
       "3  Go someplace else there are better hotels in t...  \n",
       "4  Used them a number of years ago and they were ...  "
      ]
     },
     "execution_count": 2,
     "metadata": {},
     "output_type": "execute_result"
    }
   ],
   "source": [
    "col_names = ['Document_No', 'Dominant_Topic', 'Topic_Keywords', 'Text']\n",
    "data = pd.read_csv('data/top_dominant_results.csv',usecols=col_names)\n",
    "data.head()"
   ]
  },
  {
   "cell_type": "code",
   "execution_count": 3,
   "id": "f598ae90-4a1f-4539-b4ca-b084ed14d8b2",
   "metadata": {},
   "outputs": [
    {
     "name": "stdout",
     "output_type": "stream",
     "text": [
      "Number of Rows in Dataframe: 335433\n",
      "\n",
      "Document_No         0\n",
      "Dominant_Topic    143\n",
      "Topic_Keywords    143\n",
      "Text                0\n",
      "dtype: int64\n"
     ]
    }
   ],
   "source": [
    "print(f'Number of Rows in Dataframe: {len(data)}\\n')\n",
    "print(data.isnull().sum())"
   ]
  },
  {
   "cell_type": "code",
   "execution_count": 4,
   "id": "8114f809-6622-49f1-8673-63bb1a8b7e76",
   "metadata": {},
   "outputs": [
    {
     "name": "stdout",
     "output_type": "stream",
     "text": [
      "Number of Rows in Dataframe: 335290\n",
      "\n"
     ]
    }
   ],
   "source": [
    "data.dropna(subset=['Dominant_Topic','Topic_Keywords'], inplace=True)\n",
    "print(f'Number of Rows in Dataframe: {len(data)}\\n')"
   ]
  },
  {
   "cell_type": "code",
   "execution_count": 15,
   "id": "e605497d-ca6f-440b-9933-4d8002f7b2f3",
   "metadata": {},
   "outputs": [
    {
     "data": {
      "text/plain": [
       "[0, 1, 2, 3, 4, 5, 6, 7, 8, 9, 10, 11, 12, 13, 14, 18]"
      ]
     },
     "execution_count": 15,
     "metadata": {},
     "output_type": "execute_result"
    }
   ],
   "source": []
  },
  {
   "cell_type": "code",
   "execution_count": 6,
   "id": "c195a63a-02de-4191-872b-0e31f42707af",
   "metadata": {},
   "outputs": [
    {
     "data": {
      "text/html": [
       "<div>\n",
       "<style scoped>\n",
       "    .dataframe tbody tr th:only-of-type {\n",
       "        vertical-align: middle;\n",
       "    }\n",
       "\n",
       "    .dataframe tbody tr th {\n",
       "        vertical-align: top;\n",
       "    }\n",
       "\n",
       "    .dataframe thead th {\n",
       "        text-align: right;\n",
       "    }\n",
       "</style>\n",
       "<table border=\"1\" class=\"dataframe\">\n",
       "  <thead>\n",
       "    <tr style=\"text-align: right;\">\n",
       "      <th></th>\n",
       "      <th>Document_No</th>\n",
       "      <th>Dominant_Topic</th>\n",
       "      <th>Topic_Keywords</th>\n",
       "      <th>Text</th>\n",
       "    </tr>\n",
       "  </thead>\n",
       "  <tbody>\n",
       "    <tr>\n",
       "      <th>0</th>\n",
       "      <td>0</td>\n",
       "      <td>9</td>\n",
       "      <td>car, call, company, tell, work, would, say, da...</td>\n",
       "      <td>Giving this location a low rating only because...</td>\n",
       "    </tr>\n",
       "    <tr>\n",
       "      <th>1</th>\n",
       "      <td>1</td>\n",
       "      <td>3</td>\n",
       "      <td>order, wait, ask, say, minute, table, take, te...</td>\n",
       "      <td>I'll start off by saying that this was my favo...</td>\n",
       "    </tr>\n",
       "    <tr>\n",
       "      <th>2</th>\n",
       "      <td>2</td>\n",
       "      <td>3</td>\n",
       "      <td>order, wait, ask, say, minute, table, take, te...</td>\n",
       "      <td>The mille crepe cake my sister gifted me for m...</td>\n",
       "    </tr>\n",
       "    <tr>\n",
       "      <th>3</th>\n",
       "      <td>3</td>\n",
       "      <td>7</td>\n",
       "      <td>pizza, restaurant, love, service, bar, order, ...</td>\n",
       "      <td>Go someplace else there are better hotels in t...</td>\n",
       "    </tr>\n",
       "    <tr>\n",
       "      <th>4</th>\n",
       "      <td>4</td>\n",
       "      <td>9</td>\n",
       "      <td>car, call, company, tell, work, would, say, da...</td>\n",
       "      <td>Used them a number of years ago and they were ...</td>\n",
       "    </tr>\n",
       "  </tbody>\n",
       "</table>\n",
       "</div>"
      ],
      "text/plain": [
       "   Document_No  Dominant_Topic  \\\n",
       "0            0               9   \n",
       "1            1               3   \n",
       "2            2               3   \n",
       "3            3               7   \n",
       "4            4               9   \n",
       "\n",
       "                                      Topic_Keywords  \\\n",
       "0  car, call, company, tell, work, would, say, da...   \n",
       "1  order, wait, ask, say, minute, table, take, te...   \n",
       "2  order, wait, ask, say, minute, table, take, te...   \n",
       "3  pizza, restaurant, love, service, bar, order, ...   \n",
       "4  car, call, company, tell, work, would, say, da...   \n",
       "\n",
       "                                                Text  \n",
       "0  Giving this location a low rating only because...  \n",
       "1  I'll start off by saying that this was my favo...  \n",
       "2  The mille crepe cake my sister gifted me for m...  \n",
       "3  Go someplace else there are better hotels in t...  \n",
       "4  Used them a number of years ago and they were ...  "
      ]
     },
     "execution_count": 6,
     "metadata": {},
     "output_type": "execute_result"
    }
   ],
   "source": [
    "data['Dominant_Topic'] = data['Dominant_Topic'].astype(int)\n",
    "data.head()"
   ]
  },
  {
   "cell_type": "code",
   "execution_count": null,
   "id": "4ad1275b-c060-4b8a-875e-ea4a3b66da67",
   "metadata": {},
   "outputs": [],
   "source": [
    "data['Text'] = data.groupby(['Dominant_Topic'])['Text'].transform(lambda x : '.'.join(x))\n",
    "data = data.drop_duplicates()\n",
    "data"
   ]
  },
  {
   "cell_type": "code",
   "execution_count": 22,
   "id": "9c860394-2fbd-4cff-8e6d-d451c3606f78",
   "metadata": {},
   "outputs": [
    {
     "name": "stdout",
     "output_type": "stream",
     "text": [
      "476\n",
      "11667\n",
      "56711\n",
      "49679\n",
      "23300\n",
      "23188\n",
      "16116\n",
      "105747\n",
      "15367\n",
      "31786\n",
      "1141\n",
      "6\n",
      "59\n",
      "2\n",
      "4\n",
      "41\n"
     ]
    }
   ],
   "source": [
    "for topic_number in sorted(data['Dominant_Topic'].unique()):\n",
    "    topic_sentences = data.loc[data['Dominant_Topic'] == topic_number]\n",
    "    print(len(topic_sentences))"
   ]
  },
  {
   "cell_type": "code",
   "execution_count": 23,
   "id": "77ca9d12-6294-40dc-ad14-30eed0204481",
   "metadata": {},
   "outputs": [
    {
     "data": {
      "text/plain": [
       "pandas.core.frame.DataFrame"
      ]
     },
     "execution_count": 23,
     "metadata": {},
     "output_type": "execute_result"
    }
   ],
   "source": [
    "type(data.loc[data['Dominant_Topic'] == 4])"
   ]
  },
  {
   "cell_type": "code",
   "execution_count": null,
   "id": "c65474e3-364f-4333-b7b8-57e0c9ad4b92",
   "metadata": {},
   "outputs": [],
   "source": []
  }
 ],
 "metadata": {
  "kernelspec": {
   "display_name": "Python 3",
   "language": "python",
   "name": "python3"
  },
  "language_info": {
   "codemirror_mode": {
    "name": "ipython",
    "version": 3
   },
   "file_extension": ".py",
   "mimetype": "text/x-python",
   "name": "python",
   "nbconvert_exporter": "python",
   "pygments_lexer": "ipython3",
   "version": "3.8.8"
  }
 },
 "nbformat": 4,
 "nbformat_minor": 5
}
