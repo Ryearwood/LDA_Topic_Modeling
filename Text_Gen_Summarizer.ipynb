{
 "cells": [
  {
   "cell_type": "code",
   "execution_count": 1,
   "id": "7b10f84d-ad1a-47d0-9c22-635fcc624089",
   "metadata": {},
   "outputs": [],
   "source": [
    "# Load Libraries and packages\n",
    "import numpy as np\n",
    "import pandas as pd\n",
    "\n",
    "# Extractive Text Summarizer Libraries\n",
    "from sumy.parsers.plaintext import PlaintextParser\n",
    "from sumy.nlp.tokenizers import Tokenizer\n",
    "from sumy.summarizers.lex_rank import LexRankSummarizer\n",
    "from sumy.summarizers.lsa import LsaSummarizer\n",
    "from sumy.summarizers.luhn import LuhnSummarizer\n",
    "from sumy.summarizers.kl import KLSummarizer\n",
    "\n",
    "# Abstractive Text Summarizers\n",
    "## T5 Models\n",
    "from transformers import T5Tokenizer, T5Config, T5ForConditionalGeneration\n",
    "## BART Model\n",
    "from transformers import BartForConditionalGeneration, BartTokenizer, BartConfig\n",
    "## GPT-2 Model\n",
    "from transformers import GPT2Tokenizer,GPT2LMHeadModel"
   ]
  },
  {
   "cell_type": "code",
   "execution_count": 4,
   "id": "e1dec6dd-8aa9-4a48-b52a-353ba631d52a",
   "metadata": {},
   "outputs": [
    {
     "data": {
      "text/html": [
       "<div>\n",
       "<style scoped>\n",
       "    .dataframe tbody tr th:only-of-type {\n",
       "        vertical-align: middle;\n",
       "    }\n",
       "\n",
       "    .dataframe tbody tr th {\n",
       "        vertical-align: top;\n",
       "    }\n",
       "\n",
       "    .dataframe thead th {\n",
       "        text-align: right;\n",
       "    }\n",
       "</style>\n",
       "<table border=\"1\" class=\"dataframe\">\n",
       "  <thead>\n",
       "    <tr style=\"text-align: right;\">\n",
       "      <th></th>\n",
       "      <th>Document_No</th>\n",
       "      <th>Dominant_Topic</th>\n",
       "      <th>Topic_Keywords</th>\n",
       "      <th>Text</th>\n",
       "    </tr>\n",
       "  </thead>\n",
       "  <tbody>\n",
       "    <tr>\n",
       "      <th>0</th>\n",
       "      <td>0</td>\n",
       "      <td>9.0</td>\n",
       "      <td>car, call, company, tell, work, would, say, da...</td>\n",
       "      <td>Giving this location a low rating only because...</td>\n",
       "    </tr>\n",
       "    <tr>\n",
       "      <th>1</th>\n",
       "      <td>1</td>\n",
       "      <td>3.0</td>\n",
       "      <td>order, wait, ask, say, minute, table, take, te...</td>\n",
       "      <td>I'll start off by saying that this was my favo...</td>\n",
       "    </tr>\n",
       "    <tr>\n",
       "      <th>2</th>\n",
       "      <td>2</td>\n",
       "      <td>3.0</td>\n",
       "      <td>order, wait, ask, say, minute, table, take, te...</td>\n",
       "      <td>The mille crepe cake my sister gifted me for m...</td>\n",
       "    </tr>\n",
       "    <tr>\n",
       "      <th>3</th>\n",
       "      <td>3</td>\n",
       "      <td>7.0</td>\n",
       "      <td>pizza, restaurant, love, service, bar, order, ...</td>\n",
       "      <td>Go someplace else there are better hotels in t...</td>\n",
       "    </tr>\n",
       "    <tr>\n",
       "      <th>4</th>\n",
       "      <td>4</td>\n",
       "      <td>9.0</td>\n",
       "      <td>car, call, company, tell, work, would, say, da...</td>\n",
       "      <td>Used them a number of years ago and they were ...</td>\n",
       "    </tr>\n",
       "  </tbody>\n",
       "</table>\n",
       "</div>"
      ],
      "text/plain": [
       "   Document_No  Dominant_Topic  \\\n",
       "0            0             9.0   \n",
       "1            1             3.0   \n",
       "2            2             3.0   \n",
       "3            3             7.0   \n",
       "4            4             9.0   \n",
       "\n",
       "                                      Topic_Keywords  \\\n",
       "0  car, call, company, tell, work, would, say, da...   \n",
       "1  order, wait, ask, say, minute, table, take, te...   \n",
       "2  order, wait, ask, say, minute, table, take, te...   \n",
       "3  pizza, restaurant, love, service, bar, order, ...   \n",
       "4  car, call, company, tell, work, would, say, da...   \n",
       "\n",
       "                                                Text  \n",
       "0  Giving this location a low rating only because...  \n",
       "1  I'll start off by saying that this was my favo...  \n",
       "2  The mille crepe cake my sister gifted me for m...  \n",
       "3  Go someplace else there are better hotels in t...  \n",
       "4  Used them a number of years ago and they were ...  "
      ]
     },
     "execution_count": 4,
     "metadata": {},
     "output_type": "execute_result"
    }
   ],
   "source": [
    "col_names = ['Document_No', 'Dominant_Topic', 'Topic_Keywords', 'Text']\n",
    "data = pd.read_csv('data/top_dominant_results.csv',usecols=col_names)\n",
    "data.head()"
   ]
  },
  {
   "cell_type": "code",
   "execution_count": null,
   "id": "9c860394-2fbd-4cff-8e6d-d451c3606f78",
   "metadata": {},
   "outputs": [],
   "source": []
  },
  {
   "cell_type": "code",
   "execution_count": null,
   "id": "77ca9d12-6294-40dc-ad14-30eed0204481",
   "metadata": {},
   "outputs": [],
   "source": []
  },
  {
   "cell_type": "code",
   "execution_count": null,
   "id": "c65474e3-364f-4333-b7b8-57e0c9ad4b92",
   "metadata": {},
   "outputs": [],
   "source": []
  }
 ],
 "metadata": {
  "kernelspec": {
   "display_name": "Python 3",
   "language": "python",
   "name": "python3"
  },
  "language_info": {
   "codemirror_mode": {
    "name": "ipython",
    "version": 3
   },
   "file_extension": ".py",
   "mimetype": "text/x-python",
   "name": "python",
   "nbconvert_exporter": "python",
   "pygments_lexer": "ipython3",
   "version": "3.8.8"
  }
 },
 "nbformat": 4,
 "nbformat_minor": 5
}
