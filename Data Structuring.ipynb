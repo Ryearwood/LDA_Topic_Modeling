{
 "cells": [
  {
   "cell_type": "markdown",
   "id": "ace2d81a-61ac-4e37-afb3-9452869786ed",
   "metadata": {},
   "source": [
    "### Load multiple Datasets and configure them"
   ]
  },
  {
   "cell_type": "code",
   "execution_count": 12,
   "id": "50633cc6-20ac-4750-8a3e-78822eca16cc",
   "metadata": {},
   "outputs": [],
   "source": [
    "import pandas as pd"
   ]
  },
  {
   "cell_type": "code",
   "execution_count": 13,
   "id": "3105a90e-f0bc-44f1-93bd-c9722ee9a497",
   "metadata": {},
   "outputs": [
    {
     "name": "stderr",
     "output_type": "stream",
     "text": [
      "C:\\Users\\russe\\Anaconda3\\lib\\site-packages\\IPython\\core\\interactiveshell.py:3050: DtypeWarning: Columns (0) have mixed types.Specify dtype option on import or set low_memory=False.\n",
      "  has_raised = await self.run_ast_nodes(code_ast.body, cell_name,\n"
     ]
    }
   ],
   "source": [
    "# Load each Dataset and keep only relevant data/adjust columns names for appending together\n",
    "review_data = pd.read_csv('data/Datasets/Review_data.csv')\n",
    "review_data = review_data.drop(columns=['star_rating'], axis=1)\n",
    "\n",
    "papers = pd.read_csv('data/Datasets/papers.csv')\n",
    "papers = papers.rename(columns={'paper_text':'review_body'})\n",
    "papers = papers.drop(columns=['id', 'event_type', 'pdf_name', 'abstract', 'year', 'title'], axis=1)\n",
    "\n",
    "pubmed_data = pd.read_csv('data/Datasets/pubmed-oa-subset.csv', names=[\"Article\", \"Year\", \"Title\", \"review_body\"])\n",
    "pubmed_data = pubmed_data.drop(columns=['Article', 'Year', 'Title'], axis=1)\n",
    "\n",
    "yelp_data = pd.read_csv('data/Datasets/yelp_reviews.csv')\n",
    "yelp_data = yelp_data.drop(columns=['stars'], axis=1)\n",
    "yelp_data = yelp_data.rename(columns={'text':'review_body'})"
   ]
  },
  {
   "cell_type": "markdown",
   "id": "114cee4b-b881-402f-a1b3-3a32c5137ae5",
   "metadata": {},
   "source": [
    "### Compile datasets into single csv"
   ]
  },
  {
   "cell_type": "code",
   "execution_count": 14,
   "id": "477b2357-808a-4bf7-ae77-9a7f1ed66031",
   "metadata": {},
   "outputs": [],
   "source": [
    "data_compiled = papers.append(pubmed_data)\n",
    "data_compiled = review_data.append(data_compiled)\n",
    "data_compiled = data_compiled.append(yelp_data)"
   ]
  },
  {
   "cell_type": "code",
   "execution_count": 15,
   "id": "f2c0e0a0-df34-4061-a032-fa28981f99b2",
   "metadata": {},
   "outputs": [
    {
     "data": {
      "text/plain": [
       "348"
      ]
     },
     "execution_count": 15,
     "metadata": {},
     "output_type": "execute_result"
    }
   ],
   "source": [
    "data_compiled.isnull().values.sum()"
   ]
  },
  {
   "cell_type": "code",
   "execution_count": 16,
   "id": "0bf7ecc2-3180-40d8-baae-52cb64276ef9",
   "metadata": {
    "tags": []
   },
   "outputs": [],
   "source": [
    "data_compiled = data_compiled.dropna()"
   ]
  },
  {
   "cell_type": "code",
   "execution_count": 21,
   "id": "274b52e9-e1af-454f-9efb-a126264dc695",
   "metadata": {},
   "outputs": [],
   "source": [
    "data_compiled.to_csv('data/Datasets/compiled_data.csv', index=False)"
   ]
  },
  {
   "cell_type": "code",
   "execution_count": 20,
   "id": "8c515ce2-5ebb-4eeb-b99b-6e3b3a27d15d",
   "metadata": {},
   "outputs": [
    {
     "data": {
      "text/plain": [
       "6708664"
      ]
     },
     "execution_count": 20,
     "metadata": {},
     "output_type": "execute_result"
    }
   ],
   "source": [
    "len(data_compiled)"
   ]
  }
 ],
 "metadata": {
  "kernelspec": {
   "display_name": "Python 3",
   "language": "python",
   "name": "python3"
  },
  "language_info": {
   "codemirror_mode": {
    "name": "ipython",
    "version": 3
   },
   "file_extension": ".py",
   "mimetype": "text/x-python",
   "name": "python",
   "nbconvert_exporter": "python",
   "pygments_lexer": "ipython3",
   "version": "3.8.8"
  }
 },
 "nbformat": 4,
 "nbformat_minor": 5
}
