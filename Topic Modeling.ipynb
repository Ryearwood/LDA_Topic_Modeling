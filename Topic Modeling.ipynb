{
 "cells": [
  {
   "cell_type": "markdown",
   "id": "c2c4fbb9-8543-4810-9271-c8acb2ef0829",
   "metadata": {},
   "source": [
    "## 1: Load Data"
   ]
  },
  {
   "cell_type": "code",
   "execution_count": 32,
   "id": "ce2b6857-9278-44f5-8df9-f0f39ef7dc54",
   "metadata": {},
   "outputs": [
    {
     "name": "stderr",
     "output_type": "stream",
     "text": [
      "[nltk_data] Downloading package stopwords to\n",
      "[nltk_data]     C:\\Users\\russe\\AppData\\Roaming\\nltk_data...\n",
      "[nltk_data]   Package stopwords is already up-to-date!\n"
     ]
    }
   ],
   "source": [
    "# Import Analysis Libraries\n",
    "import numpy as np\n",
    "import pandas as pd\n",
    "import random\n",
    "import sys\n",
    "import re\n",
    "\n",
    "# Import Visualization Libraries\n",
    "import matplotlib.pyplot as plt\n",
    "import seaborn as sns\n",
    "# Configure Matplotlib graph production\n",
    "%matplotlib inline\n",
    "%config InlineBackend.figure_format = 'retina'\n",
    "\n",
    "# Import Word Processing Libraries\n",
    "import nltk\n",
    "from nltk.tokenize import word_tokenize\n",
    "from nltk.corpus import stopwords\n",
    "from nltk.stem.snowball import SnowballStemmer # Used over Porter Stemmer to allow scalability with additional languages in the future\n",
    "stopwords = nltk.corpus.stopwords.words('english')\n",
    "nltk.download('stopwords')\n",
    "\n",
    "# Import Machine Learning Libraries\n",
    "from sklearn.feature_extraction.text import TfidfVectorizer, CountVectorizer\n",
    "from sklearn.cluster import KMeans\n",
    "from sklearn.decomposition import PCA, KernelPCA\n",
    "from sklearn.decomposition import LatentDirichletAllocation\n",
    "\n",
    "# Configure Seed Generation\n",
    "seed_value = random.randrange(sys.maxsize) # Use this if you want a new seed value each Load \n",
    "# Else set manual Seed Value\n",
    "random.seed(seed_value)"
   ]
  },
  {
   "cell_type": "code",
   "execution_count": 7,
   "id": "3ad74ed2-e7fb-40ab-b32b-1f36a975fc33",
   "metadata": {},
   "outputs": [
    {
     "data": {
      "text/html": [
       "<div>\n",
       "<style scoped>\n",
       "    .dataframe tbody tr th:only-of-type {\n",
       "        vertical-align: middle;\n",
       "    }\n",
       "\n",
       "    .dataframe tbody tr th {\n",
       "        vertical-align: top;\n",
       "    }\n",
       "\n",
       "    .dataframe thead th {\n",
       "        text-align: right;\n",
       "    }\n",
       "</style>\n",
       "<table border=\"1\" class=\"dataframe\">\n",
       "  <thead>\n",
       "    <tr style=\"text-align: right;\">\n",
       "      <th></th>\n",
       "      <th>review_body</th>\n",
       "      <th>star_rating</th>\n",
       "    </tr>\n",
       "  </thead>\n",
       "  <tbody>\n",
       "    <tr>\n",
       "      <th>0</th>\n",
       "      <td>Good luck finding a reasonably priced band rep...</td>\n",
       "      <td>1</td>\n",
       "    </tr>\n",
       "    <tr>\n",
       "      <th>1</th>\n",
       "      <td>No i get dark on the first week with me!! I wi...</td>\n",
       "      <td>1</td>\n",
       "    </tr>\n",
       "    <tr>\n",
       "      <th>2</th>\n",
       "      <td>I dont know if mine was a mistake but it clear...</td>\n",
       "      <td>1</td>\n",
       "    </tr>\n",
       "    <tr>\n",
       "      <th>3</th>\n",
       "      <td>The rod that holds the bracelet broke several ...</td>\n",
       "      <td>1</td>\n",
       "    </tr>\n",
       "    <tr>\n",
       "      <th>4</th>\n",
       "      <td>I bought 2 watches , one watch doesnot work at...</td>\n",
       "      <td>1</td>\n",
       "    </tr>\n",
       "  </tbody>\n",
       "</table>\n",
       "</div>"
      ],
      "text/plain": [
       "                                         review_body  star_rating\n",
       "0  Good luck finding a reasonably priced band rep...            1\n",
       "1  No i get dark on the first week with me!! I wi...            1\n",
       "2  I dont know if mine was a mistake but it clear...            1\n",
       "3  The rod that holds the bracelet broke several ...            1\n",
       "4  I bought 2 watches , one watch doesnot work at...            1"
      ]
     },
     "execution_count": 7,
     "metadata": {},
     "output_type": "execute_result"
    }
   ],
   "source": [
    "DF = pd.read_csv('Review_data.csv', sep=',', header=0)\n",
    "DF.head()"
   ]
  },
  {
   "cell_type": "code",
   "execution_count": 19,
   "id": "bcc98909-0ab8-40e3-b8dd-116fa2444bb1",
   "metadata": {},
   "outputs": [
    {
     "name": "stdout",
     "output_type": "stream",
     "text": [
      "Empty Values:\n",
      "review_body    0\n",
      "star_rating    0\n",
      "dtype: int64 \n",
      "\n",
      "Number of Entries per Review Rating\n",
      "1    3000\n",
      "2    3000\n",
      "3    3000\n",
      "4    3000\n",
      "5    3000\n",
      "Name: star_rating, dtype: int64\n"
     ]
    }
   ],
   "source": [
    "# Check if any empty values\n",
    "print('Empty Values:')\n",
    "print(DF.isnull().sum(), '\\n')\n",
    "# Count values by review rating\n",
    "print('Number of Entries per Review Rating')\n",
    "print(DF.star_rating.value_counts())"
   ]
  },
  {
   "cell_type": "code",
   "execution_count": 26,
   "id": "9ccf2d2d-dfc2-4536-97f4-3c04b505a655",
   "metadata": {},
   "outputs": [
    {
     "name": "stdout",
     "output_type": "stream",
     "text": [
      "Good luck finding a reasonably priced band replacement. I ordered the band from the dealer who sold it to me (no one else in town could get one) and Skagen sent the wrong one.  I guess I'll try again, but not allowing anyone else to make bands for your unique watch design seems stupid. I will certainly never buy one again. \n",
      "\n",
      "No i get dark on the first week with me!! I will never buy this item and i had buy 5 of them \n",
      "\n",
      "I dont know if mine was a mistake but it clearly states aqua so im confused why mine is lime green. I hate lime green and am very irritated. This is why people hate ordering on amazon. Ive spent 100s of dollars on here latey and this one will make me not want to order.  At least its not much money. Just annoying thinking u ordered something and get something else.  Well its going in the trash... \n",
      "\n",
      "The rod that holds the bracelet broke several times and the company do not fix it, it is sitting on the drawer so I can come to see the Jeweler to try to fix one more time. Don't buy it. Really. Don't buy it, It is headache. \n",
      "\n",
      "I bought 2 watches , one watch doesnot work at all, other watch  runs, its time slows down 5-10 minutes backward. Outwardly the watches look beautiful, it doesnot show time . I don't know why you are selling these kind of watches online. It is a waste my money and time that I bought these watches. \n",
      "\n"
     ]
    }
   ],
   "source": [
    "# Store only Text Body component for Machine Learning model\n",
    "body_data = DF.loc[:, 'review_body'].tolist()\n",
    "\n",
    "# View Some Entries\n",
    "for i in range(5):\n",
    "    print(body_data[i],'\\n')"
   ]
  },
  {
   "cell_type": "markdown",
   "id": "d704cb10-fca4-4f38-8605-38aae1516580",
   "metadata": {},
   "source": [
    "## 2: Word Processing"
   ]
  },
  {
   "cell_type": "code",
   "execution_count": 33,
   "id": "848809aa-9aed-41d3-8a9d-02aba28c75ae",
   "metadata": {},
   "outputs": [
    {
     "name": "stdout",
     "output_type": "stream",
     "text": [
      "179 Stopwords used from library\n"
     ]
    }
   ],
   "source": [
    "print(len(stopwords), 'Stopwords used from library')"
   ]
  },
  {
   "cell_type": "code",
   "execution_count": 34,
   "id": "edcb64e5-020e-4f41-aa17-5a1afc6cddab",
   "metadata": {},
   "outputs": [],
   "source": [
    "# Remove any non-alphanumeric characters and punctuation - lowercase and separate words in a body of text\n",
    "def remove_punct(entry):\n",
    "    text = re.sub('[^a-zA-Z]',' ',entry).lower().split()\n",
    "    return text"
   ]
  },
  {
   "cell_type": "code",
   "execution_count": 40,
   "id": "59899f21-f338-46b6-a665-bd3111ea22c1",
   "metadata": {},
   "outputs": [],
   "source": [
    "# Stemmatize tokenized Data\n",
    "def stem(data):\n",
    "    # Initialize stemmatizer and apply\n",
    "    snowball = SnowballStemmer('english')\n",
    "    stemmed = [snowball.stem(word) for word in data if not word in stopwords]\n",
    "    stemmed = ' '.join(stemmed)\n",
    "    return stemmed"
   ]
  },
  {
   "cell_type": "code",
   "execution_count": 41,
   "id": "24c6136a-a0e5-44c8-aaef-92953382ee7c",
   "metadata": {},
   "outputs": [],
   "source": [
    "# Preprocess data sequentially\n",
    "def pre_process(target_data):\n",
    "    \n",
    "    # Create localized data copy \n",
    "    article = target_data.copy()\n",
    "    corpus = []\n",
    "    for entry in range(len(article)):\n",
    "        # Remove punctuation & non-alphanumerics\n",
    "        tokens = remove_punct(article[entry])\n",
    "        # Stemmatize & Store results\n",
    "        stemmed_data = stem(tokens)\n",
    "        corpus.append(stemmed_data)\n",
    "    return corpus"
   ]
  },
  {
   "cell_type": "code",
   "execution_count": 42,
   "id": "66f9d747-be96-4bf2-944d-5f32343fae6e",
   "metadata": {},
   "outputs": [
    {
     "data": {
      "text/plain": [
       "['good luck find reason price band replac order band dealer sold one els town could get one skagen sent wrong one guess tri allow anyon els make band uniqu watch design seem stupid certain never buy one',\n",
       " 'get dark first week never buy item buy',\n",
       " 'dont know mine mistak clear state aqua im confus mine lime green hate lime green irrit peopl hate order amazon ive spent dollar latey one make want order least much money annoy think u order someth get someth els well go trash',\n",
       " 'rod hold bracelet broke sever time compani fix sit drawer come see jewel tri fix one time buy realli buy headach',\n",
       " 'bought watch one watch doesnot work watch run time slow minut backward outward watch look beauti doesnot show time know sell kind watch onlin wast money time bought watch']"
      ]
     },
     "execution_count": 42,
     "metadata": {},
     "output_type": "execute_result"
    }
   ],
   "source": [
    "word_corpus = pre_process(body_data)\n",
    "word_corpus[:5]"
   ]
  },
  {
   "cell_type": "code",
   "execution_count": null,
   "id": "f9dbf741-682b-45a7-a276-3a0e58778fd7",
   "metadata": {},
   "outputs": [],
   "source": []
  }
 ],
 "metadata": {
  "kernelspec": {
   "display_name": "Python 3",
   "language": "python",
   "name": "python3"
  },
  "language_info": {
   "codemirror_mode": {
    "name": "ipython",
    "version": 3
   },
   "file_extension": ".py",
   "mimetype": "text/x-python",
   "name": "python",
   "nbconvert_exporter": "python",
   "pygments_lexer": "ipython3",
   "version": "3.8.8"
  }
 },
 "nbformat": 4,
 "nbformat_minor": 5
}
