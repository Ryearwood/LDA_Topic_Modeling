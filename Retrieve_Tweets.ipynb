{
 "cells": [
  {
   "cell_type": "code",
   "execution_count": 1,
   "id": "51799207-f89e-4384-97e8-4ec3b6fbffa9",
   "metadata": {},
   "outputs": [],
   "source": [
    "# !pip install tweepy\n",
    "# !pip install emoji"
   ]
  },
  {
   "cell_type": "code",
   "execution_count": 1,
   "id": "a91ecfec-0c15-4fca-8b36-577231a4aaee",
   "metadata": {},
   "outputs": [],
   "source": [
    "import os\n",
    "import tweepy as tw\n",
    "from emoji import emojize\n",
    "import pandas as pd"
   ]
  },
  {
   "cell_type": "code",
   "execution_count": 2,
   "id": "b0ff3ee2-1abd-4259-851c-e06f06b461df",
   "metadata": {
    "tags": []
   },
   "outputs": [],
   "source": [
    "consumer_key = os.getenv('Twitter_Consumer_Key')\n",
    "consumer_secret = os.getenv(\"Twitter_Consumer_Secret\")\n",
    "access_token = os.getenv('Twitter_Access_Token')\n",
    "access_token_secret = os.getenv('Twitter_Access_Secret')"
   ]
  },
  {
   "cell_type": "code",
   "execution_count": 3,
   "id": "bba928cb-fdef-4aac-acb1-12a861f0f318",
   "metadata": {},
   "outputs": [
    {
     "name": "stdout",
     "output_type": "stream",
     "text": [
      "55oUhlZo1ofeu6wnw0y2SF2x5\n"
     ]
    }
   ],
   "source": [
    "print(consumer_key)"
   ]
  },
  {
   "cell_type": "code",
   "execution_count": 4,
   "id": "42ecb6ca-f063-42aa-9eff-aec9b4b08043",
   "metadata": {},
   "outputs": [
    {
     "name": "stdout",
     "output_type": "stream",
     "text": [
      "Llkuvk6VjWlYc1dsvY5vWoVOMgpUTzCpsO3g5bYpRWzWQNAxSM\n"
     ]
    }
   ],
   "source": [
    "print(consumer_secret)"
   ]
  },
  {
   "cell_type": "code",
   "execution_count": 5,
   "id": "64bdcaba-794b-4051-9a21-22d96f73299b",
   "metadata": {},
   "outputs": [
    {
     "name": "stdout",
     "output_type": "stream",
     "text": [
      "1346938257074839555-mOSSVCTFmgDXKNIej0z2mikvU3QiQM\n"
     ]
    }
   ],
   "source": [
    "print(access_token)"
   ]
  },
  {
   "cell_type": "code",
   "execution_count": 6,
   "id": "fed0f035-2e9d-4aa1-ac39-d365cd18c063",
   "metadata": {},
   "outputs": [
    {
     "name": "stdout",
     "output_type": "stream",
     "text": [
      "iSnQ9fOv9VTk5e4mawrkesszZxs22Sz2x5ur3ArtnTYAM\n"
     ]
    }
   ],
   "source": [
    "print(access_token_secret)"
   ]
  },
  {
   "cell_type": "code",
   "execution_count": 10,
   "id": "b94e037a-6b3d-4ca7-8372-8bac40d88185",
   "metadata": {},
   "outputs": [
    {
     "name": "stdout",
     "output_type": "stream",
     "text": [
      "Ryearwood\n",
      "Successfully connected to the Twitter API.\n"
     ]
    }
   ],
   "source": [
    "auth = tw.OAuthHandler(consumer_key, consumer_secret)\n",
    "auth.set_access_token(access_token, access_token_secret)\n",
    "api = tw.API(auth,wait_on_rate_limit=True)\n",
    "print(api.verify_credentials().name)\n",
    "print('Successfully connected to the Twitter API.')"
   ]
  },
  {
   "cell_type": "code",
   "execution_count": 11,
   "id": "473c6a03-645d-4b6e-bfb6-989ce17d4e22",
   "metadata": {},
   "outputs": [],
   "source": [
    "query = '#angry'\n",
    "max_requests = 180"
   ]
  },
  {
   "cell_type": "code",
   "execution_count": 12,
   "id": "00e0649c-385e-4b2c-93ed-51e370cfed41",
   "metadata": {},
   "outputs": [],
   "source": [
    "q = emojize(query) + ' -filter:retweets'\n",
    "searched_tweets = []\n",
    "last_id = -1\n",
    "request_count = 0\n",
    "while request_count < max_requests:\n",
    "    try:\n",
    "        new_tweets = api.search_tweets(q=q,\n",
    "                                       lang='en',\n",
    "                                       count=100,\n",
    "                                       max_id=str(last_id - 1),\n",
    "                                       tweet_mode='extended')\n",
    "        if not new_tweets:\n",
    "            break\n",
    "        searched_tweets.extend(new_tweets)\n",
    "        last_id = new_tweets[-1].id\n",
    "        request_count += 1\n",
    "    except tw.TweepError as error:\n",
    "        print(error)\n",
    "        break"
   ]
  },
  {
   "cell_type": "code",
   "execution_count": 14,
   "id": "33fc2879-4f60-4c80-8900-fc1a46c4f714",
   "metadata": {
    "tags": []
   },
   "outputs": [
    {
     "name": "stdout",
     "output_type": "stream",
     "text": [
      "350 #angry tweets\n"
     ]
    }
   ],
   "source": [
    "data = []\n",
    "for tweet in searched_tweets:\n",
    "    data.append([tweet.id, tweet.created_at, tweet.user.screen_name, tweet.full_text])\n",
    "df = pd.DataFrame(data=data, columns=['id', 'date', 'user', 'text'])\n",
    "print(str(len(data)) + ' ' + query + ' tweets')"
   ]
  },
  {
   "cell_type": "code",
   "execution_count": 21,
   "id": "1416d17e-666e-434c-a779-4e59e71f8b40",
   "metadata": {},
   "outputs": [
    {
     "name": "stdout",
     "output_type": "stream",
     "text": [
      "Dataframe Shape: (350, 4)\n",
      "\n"
     ]
    },
    {
     "data": {
      "text/html": [
       "<div>\n",
       "<style scoped>\n",
       "    .dataframe tbody tr th:only-of-type {\n",
       "        vertical-align: middle;\n",
       "    }\n",
       "\n",
       "    .dataframe tbody tr th {\n",
       "        vertical-align: top;\n",
       "    }\n",
       "\n",
       "    .dataframe thead th {\n",
       "        text-align: right;\n",
       "    }\n",
       "</style>\n",
       "<table border=\"1\" class=\"dataframe\">\n",
       "  <thead>\n",
       "    <tr style=\"text-align: right;\">\n",
       "      <th></th>\n",
       "      <th>id</th>\n",
       "      <th>date</th>\n",
       "      <th>user</th>\n",
       "      <th>text</th>\n",
       "    </tr>\n",
       "  </thead>\n",
       "  <tbody>\n",
       "    <tr>\n",
       "      <th>0</th>\n",
       "      <td>1446277185673875463</td>\n",
       "      <td>2021-10-08 00:52:06+00:00</td>\n",
       "      <td>TheLostCosmona2</td>\n",
       "      <td>Me when I'm currently going 15k for a shiny Re...</td>\n",
       "    </tr>\n",
       "    <tr>\n",
       "      <th>1</th>\n",
       "      <td>1446265748146507781</td>\n",
       "      <td>2021-10-08 00:06:39+00:00</td>\n",
       "      <td>nanamiscumrag</td>\n",
       "      <td>#ANGRY #SOUYAKAWATA The Strength of a 100 Men ...</td>\n",
       "    </tr>\n",
       "    <tr>\n",
       "      <th>2</th>\n",
       "      <td>1446261486695985157</td>\n",
       "      <td>2021-10-07 23:49:43+00:00</td>\n",
       "      <td>Lauriemcaughtry</td>\n",
       "      <td>I'm no poet but it's #NationalPoetryDay so her...</td>\n",
       "    </tr>\n",
       "    <tr>\n",
       "      <th>3</th>\n",
       "      <td>1446247009330077698</td>\n",
       "      <td>2021-10-07 22:52:11+00:00</td>\n",
       "      <td>bluazn</td>\n",
       "      <td>@PayPal trying to withdraw money but cannot 🤦🏻...</td>\n",
       "    </tr>\n",
       "    <tr>\n",
       "      <th>4</th>\n",
       "      <td>1446233988478038021</td>\n",
       "      <td>2021-10-07 22:00:27+00:00</td>\n",
       "      <td>AnneBinns7</td>\n",
       "      <td>Why cant the government see this?\\nWhy this mi...</td>\n",
       "    </tr>\n",
       "  </tbody>\n",
       "</table>\n",
       "</div>"
      ],
      "text/plain": [
       "                    id                      date             user  \\\n",
       "0  1446277185673875463 2021-10-08 00:52:06+00:00  TheLostCosmona2   \n",
       "1  1446265748146507781 2021-10-08 00:06:39+00:00    nanamiscumrag   \n",
       "2  1446261486695985157 2021-10-07 23:49:43+00:00  Lauriemcaughtry   \n",
       "3  1446247009330077698 2021-10-07 22:52:11+00:00           bluazn   \n",
       "4  1446233988478038021 2021-10-07 22:00:27+00:00       AnneBinns7   \n",
       "\n",
       "                                                text  \n",
       "0  Me when I'm currently going 15k for a shiny Re...  \n",
       "1  #ANGRY #SOUYAKAWATA The Strength of a 100 Men ...  \n",
       "2  I'm no poet but it's #NationalPoetryDay so her...  \n",
       "3  @PayPal trying to withdraw money but cannot 🤦🏻...  \n",
       "4  Why cant the government see this?\\nWhy this mi...  "
      ]
     },
     "execution_count": 21,
     "metadata": {},
     "output_type": "execute_result"
    }
   ],
   "source": [
    "print(f\"Dataframe Shape: {df.shape}\\n\")\n",
    "df.head()"
   ]
  },
  {
   "cell_type": "code",
   "execution_count": 17,
   "id": "7502f462-f691-4913-ac1d-659ab59ec076",
   "metadata": {},
   "outputs": [],
   "source": [
    "filename = query + '.csv'\n",
    "df.to_csv(\"data/Datasets/\"+filename, index=None)"
   ]
  }
 ],
 "metadata": {
  "kernelspec": {
   "display_name": "Python 3",
   "language": "python",
   "name": "python3"
  },
  "language_info": {
   "codemirror_mode": {
    "name": "ipython",
    "version": 3
   },
   "file_extension": ".py",
   "mimetype": "text/x-python",
   "name": "python",
   "nbconvert_exporter": "python",
   "pygments_lexer": "ipython3",
   "version": "3.8.8"
  }
 },
 "nbformat": 4,
 "nbformat_minor": 5
}
