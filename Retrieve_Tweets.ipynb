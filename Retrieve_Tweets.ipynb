{
 "cells": [
  {
   "cell_type": "code",
   "execution_count": 1,
   "id": "51799207-f89e-4384-97e8-4ec3b6fbffa9",
   "metadata": {},
   "outputs": [],
   "source": [
    "# !pip install tweepy\n",
    "# !pip install emoji"
   ]
  },
  {
   "cell_type": "code",
   "execution_count": 2,
   "id": "a91ecfec-0c15-4fca-8b36-577231a4aaee",
   "metadata": {},
   "outputs": [],
   "source": [
    "import sys\n",
    "import os\n",
    "import glob\n",
    "import tweepy as tw\n",
    "from emoji import emojize\n",
    "import pandas as pd"
   ]
  },
  {
   "cell_type": "code",
   "execution_count": 3,
   "id": "b0ff3ee2-1abd-4259-851c-e06f06b461df",
   "metadata": {
    "tags": []
   },
   "outputs": [],
   "source": [
    "consumer_key = os.getenv('Twitter_Consumer_Key')\n",
    "consumer_secret = os.getenv(\"Twitter_Consumer_Secret\")\n",
    "access_token = os.getenv('Twitter_Access_Token')\n",
    "access_token_secret = os.getenv('Twitter_Access_Secret')"
   ]
  },
  {
   "cell_type": "code",
   "execution_count": 4,
   "id": "b94e037a-6b3d-4ca7-8372-8bac40d88185",
   "metadata": {},
   "outputs": [
    {
     "name": "stdout",
     "output_type": "stream",
     "text": [
      "Ryearwood\n",
      "Successfully connected to the Twitter API.\n"
     ]
    }
   ],
   "source": [
    "auth = tw.OAuthHandler(consumer_key, consumer_secret)\n",
    "auth.set_access_token(access_token, access_token_secret)\n",
    "api = tw.API(auth,wait_on_rate_limit=True)\n",
    "print(api.verify_credentials().name)\n",
    "print('Successfully connected to the Twitter API.')"
   ]
  },
  {
   "cell_type": "markdown",
   "id": "68a641a1-aa39-4d0c-8a7c-22f5708cd615",
   "metadata": {},
   "source": [
    "### Query Specification & Execution"
   ]
  },
  {
   "cell_type": "code",
   "execution_count": 144,
   "id": "473c6a03-645d-4b6e-bfb6-989ce17d4e22",
   "metadata": {},
   "outputs": [],
   "source": [
    "query = '#afraid'\n",
    "max_requests = 180"
   ]
  },
  {
   "cell_type": "code",
   "execution_count": 134,
   "id": "00e0649c-385e-4b2c-93ed-51e370cfed41",
   "metadata": {},
   "outputs": [],
   "source": [
    "q = emojize(query) + ' -filter:retweets'\n",
    "searched_tweets = []\n",
    "last_id = -1\n",
    "request_count = 0\n",
    "while request_count < max_requests:\n",
    "    try:\n",
    "        new_tweets = api.search_tweets(q=q,\n",
    "                                       lang='en',\n",
    "                                       count=100,\n",
    "                                       max_id=str(last_id - 1),\n",
    "                                       tweet_mode='extended')\n",
    "        if not new_tweets:\n",
    "            break\n",
    "        searched_tweets.extend(new_tweets)\n",
    "        last_id = new_tweets[-1].id\n",
    "        request_count += 1\n",
    "    except tw.TweepError as error:\n",
    "        print(error)\n",
    "        break"
   ]
  },
  {
   "cell_type": "code",
   "execution_count": 135,
   "id": "33fc2879-4f60-4c80-8900-fc1a46c4f714",
   "metadata": {
    "tags": []
   },
   "outputs": [
    {
     "name": "stdout",
     "output_type": "stream",
     "text": [
      "1716 #fear tweets\n"
     ]
    }
   ],
   "source": [
    "data = []\n",
    "for tweet in searched_tweets:\n",
    "    data.append([tweet.id, tweet.created_at, tweet.user.screen_name, tweet.full_text])\n",
    "df = pd.DataFrame(data=data, columns=['id', 'date', 'user', 'text'])\n",
    "print(str(len(data)) + ' ' + query + ' tweets')"
   ]
  },
  {
   "cell_type": "code",
   "execution_count": null,
   "id": "75b3d638-96ff-467c-9e82-8213254dfb2a",
   "metadata": {},
   "outputs": [],
   "source": [
    "# Map twitter emojis to text string\n",
    "angry_emotion_relations = [\":pouting_face:\",\":face_with_steam_from_nose:\",\":face_with_symbols_on_mouth:\",\"#pissed\",\"#furious\",\"#rage\"]\n",
    "angry_set = set(angry_emotion_relations)\n",
    "\n",
    "sad_emotion_relations = [\":crying_face:\",\"#sad\",\"#depressed\",\":pensive_face:\",\":loudly_crying_face:\",\":broken_heart:\"]\n",
    "sad_set = set(sad_emotion_relations)\n",
    "\n",
    "fear_emotion_relations = [\":face_screaming_in_fear:\",\":fearful_face:\",\"#anxious\",\"#fear\",\"#afraid\",\"#scared\",\"#scary\",\":anxious_face_with_sweat:\",\"#worried\"]\n",
    "fear_set = set(fear_emotion_relations)\n",
    "\n",
    "surprise_emotion_relations = [\":flushed_face:\",\":thinking_face:\",\":face_with_rolling_eyes:\",\":exploding_head:\", \"#surprise\",\"#excited\"]\n",
    "surprise_set = set(surprise_emotion_relations)\n",
    "\n",
    "if query in angry_set:\n",
    "    query = \"#angry\"\n",
    "elif query in sad_set:\n",
    "    query = \"#sad\"\n",
    "elif query in fear_set:\n",
    "    query = \"#fear\"\n",
    "elif query in surprise_set:\n",
    "    query = \"#surprise\"\n",
    "\n",
    "filename = query + '.csv'\n",
    "save_location = \"C:/Users/russe/Desktop/LDA_Topic_Modeling/data/Datasets/Emotion_Data/\"+filename\n",
    "df.to_csv(save_location, mode='a', index=None,header=False)\n",
    "print(f\"Completed and data added to file location at {save_location}\")\n",
    "\n",
    "data = pd.read_csv(save_location)\n",
    "print(f\"Current CSV Length:{data.shape[0]}\")"
   ]
  },
  {
   "cell_type": "markdown",
   "id": "693f5c84-4773-4452-ab0f-efa57eb6589e",
   "metadata": {},
   "source": [
    "## Label & Compile Tweets"
   ]
  },
  {
   "cell_type": "code",
   "execution_count": null,
   "id": "19d91675-f27c-4aae-a78e-beb81db68682",
   "metadata": {},
   "outputs": [],
   "source": [
    "%run ./Compile_Tweets.ipynb"
   ]
  }
 ],
 "metadata": {
  "kernelspec": {
   "display_name": "Python 3",
   "language": "python",
   "name": "python3"
  },
  "language_info": {
   "codemirror_mode": {
    "name": "ipython",
    "version": 3
   },
   "file_extension": ".py",
   "mimetype": "text/x-python",
   "name": "python",
   "nbconvert_exporter": "python",
   "pygments_lexer": "ipython3",
   "version": "3.8.8"
  }
 },
 "nbformat": 4,
 "nbformat_minor": 5
}
