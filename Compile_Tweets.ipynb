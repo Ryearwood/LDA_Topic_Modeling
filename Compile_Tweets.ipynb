{
 "cells": [
  {
   "cell_type": "code",
   "execution_count": 1,
   "id": "550941b5-c047-4a3d-8665-91b7f6de38e3",
   "metadata": {},
   "outputs": [],
   "source": [
    "import os\n",
    "import glob\n",
    "import pandas as pd"
   ]
  },
  {
   "cell_type": "code",
   "execution_count": 2,
   "id": "849fbaab-9f4c-48d2-8f7d-b12c3a01171a",
   "metadata": {},
   "outputs": [
    {
     "name": "stdout",
     "output_type": "stream",
     "text": [
      "['#angry.csv', '#fear.csv', '#happy.csv', '#love.csv', '#rage.csv', '#sad.csv', '#surprise.csv', 'DNN_Train_Data.csv']\n"
     ]
    }
   ],
   "source": [
    "path = r\"C:\\Users\\russe\\Desktop\\LDA_Topic_Modeling\\data\\Datasets\\Emotion_Data\"\n",
    "extension = 'csv'\n",
    "os.chdir(path)\n",
    "result = glob.glob(f'*.{extension}')\n",
    "print(result)"
   ]
  },
  {
   "cell_type": "code",
   "execution_count": 3,
   "id": "a4163ad3-e426-4de3-b5f0-71cded9ec86f",
   "metadata": {},
   "outputs": [],
   "source": [
    "# Load All Dataframes and store into variables in a dictionary\n",
    "dfs = {os.path.splitext(os.path.basename(f)[1:-4])[0]: pd.read_csv(f,names=['id', 'date', 'user', 'text'],low_memory=False) for f in glob.glob('*.csv')}\n",
    "\n",
    "# Assign Labels to twitter dataframes based on search queries\n",
    "for key in dfs.keys():   \n",
    "    if key == 'rage':\n",
    "        dfs[key]['label'] = 'anger'\n",
    "    \n",
    "    if key == 'angry':\n",
    "        dfs[key]['label'] = 'anger'\n",
    "        \n",
    "    elif key == 'fear' :\n",
    "        dfs[key]['label'] = 'fear'\n",
    "        \n",
    "    elif key == 'happy' :\n",
    "        dfs[key]['label'] = 'joy'\n",
    "        \n",
    "    elif key == 'love' :\n",
    "        dfs[key]['label'] = 'love'\n",
    "        \n",
    "    elif key == 'sad' :\n",
    "        dfs[key]['label'] = 'sad'\n",
    "        \n",
    "    elif key == 'surprise' :\n",
    "        dfs[key]['label'] = 'surprise'\n",
    "    else:\n",
    "        continue"
   ]
  },
  {
   "cell_type": "code",
   "execution_count": 4,
   "id": "08dc11be-d43c-4a30-ac3d-25e90ee63c9d",
   "metadata": {},
   "outputs": [
    {
     "name": "stdout",
     "output_type": "stream",
     "text": [
      "Rows of compiled tweets: 4190535 rows\n"
     ]
    }
   ],
   "source": [
    "# Compile and Concatenate labelled twitter dataframes\n",
    "compiled_csvs = pd.concat(dfs,ignore_index=True,axis=0)\n",
    "compiled_csvs = compiled_csvs[['label','text']]\n",
    "compiled_csvs['text'] = compiled_csvs['text'].apply(str)\n",
    "print(f\"Rows of compiled tweets: {len(compiled_csvs)} rows\")"
   ]
  },
  {
   "cell_type": "code",
   "execution_count": 5,
   "id": "7207f25e-2cac-4585-9325-10fd873036f3",
   "metadata": {},
   "outputs": [
    {
     "name": "stdout",
     "output_type": "stream",
     "text": [
      "(4190535, 2)\n",
      "(176011, 2)\n"
     ]
    }
   ],
   "source": [
    "# Remove Null Values and Drop Duplicate tweets\n",
    "compiled_csvs = compiled_csvs.dropna(subset=['text'])\n",
    "print(compiled_csvs.shape)\n",
    "compiled_csvs.drop_duplicates(subset=['text'], keep='first',inplace=True,ignore_index=True)\n",
    "print(compiled_csvs.shape)"
   ]
  },
  {
   "cell_type": "code",
   "execution_count": 6,
   "id": "d976dfb6-58b6-45f1-842f-26db84dae9a3",
   "metadata": {},
   "outputs": [],
   "source": [
    "save_loc = \"C:/Users/russe/Desktop/LDA_Topic_Modeling/data/Datasets/Emotion_Data/Compiled_Tweets/\"\n",
    "filename = \"Labelled_Tweets.csv\""
   ]
  },
  {
   "cell_type": "code",
   "execution_count": 7,
   "id": "bcdcc439-d1be-4271-9199-a42ac0e1666e",
   "metadata": {},
   "outputs": [
    {
     "data": {
      "text/html": [
       "<div>\n",
       "<style scoped>\n",
       "    .dataframe tbody tr th:only-of-type {\n",
       "        vertical-align: middle;\n",
       "    }\n",
       "\n",
       "    .dataframe tbody tr th {\n",
       "        vertical-align: top;\n",
       "    }\n",
       "\n",
       "    .dataframe thead th {\n",
       "        text-align: right;\n",
       "    }\n",
       "</style>\n",
       "<table border=\"1\" class=\"dataframe\">\n",
       "  <thead>\n",
       "    <tr style=\"text-align: right;\">\n",
       "      <th></th>\n",
       "      <th>label</th>\n",
       "      <th>text</th>\n",
       "    </tr>\n",
       "  </thead>\n",
       "  <tbody>\n",
       "    <tr>\n",
       "      <th>0</th>\n",
       "      <td>anger</td>\n",
       "      <td>https://t.co/IZSFiF8Rw9 #angry #Dont Make Me A...</td>\n",
       "    </tr>\n",
       "    <tr>\n",
       "      <th>1</th>\n",
       "      <td>anger</td>\n",
       "      <td>„Furiosa“ is finished… #wut #rage #projekt #an...</td>\n",
       "    </tr>\n",
       "    <tr>\n",
       "      <th>2</th>\n",
       "      <td>anger</td>\n",
       "      <td>#Freak TFG is #angry #afraid https://t.co/ql68...</td>\n",
       "    </tr>\n",
       "    <tr>\n",
       "      <th>3</th>\n",
       "      <td>anger</td>\n",
       "      <td>Gave up by NIN is such a good song to blast wh...</td>\n",
       "    </tr>\n",
       "    <tr>\n",
       "      <th>4</th>\n",
       "      <td>anger</td>\n",
       "      <td>@HDMOVIESOURCE @UniversalPics This seems fair ...</td>\n",
       "    </tr>\n",
       "  </tbody>\n",
       "</table>\n",
       "</div>"
      ],
      "text/plain": [
       "   label                                               text\n",
       "0  anger  https://t.co/IZSFiF8Rw9 #angry #Dont Make Me A...\n",
       "1  anger  „Furiosa“ is finished… #wut #rage #projekt #an...\n",
       "2  anger  #Freak TFG is #angry #afraid https://t.co/ql68...\n",
       "3  anger  Gave up by NIN is such a good song to blast wh...\n",
       "4  anger  @HDMOVIESOURCE @UniversalPics This seems fair ..."
      ]
     },
     "execution_count": 7,
     "metadata": {},
     "output_type": "execute_result"
    }
   ],
   "source": [
    "# Export compiled data\n",
    "compiled_csvs.to_csv(save_loc+filename,index=None,header=True)\n",
    "compiled_csvs.head()"
   ]
  },
  {
   "cell_type": "code",
   "execution_count": 8,
   "id": "892e96d4-849a-4886-8fd9-ad591257e2d5",
   "metadata": {},
   "outputs": [
    {
     "data": {
      "text/plain": [
       "sad         46309\n",
       "love        41890\n",
       "anger       31336\n",
       "surprise    27063\n",
       "fear        18217\n",
       "joy         11196\n",
       "Name: label, dtype: int64"
      ]
     },
     "execution_count": 8,
     "metadata": {},
     "output_type": "execute_result"
    }
   ],
   "source": [
    "compiled_csvs['label'].value_counts()"
   ]
  },
  {
   "cell_type": "code",
   "execution_count": 9,
   "id": "ca736e6d-227f-41da-80cb-e9fa72d6bbf4",
   "metadata": {},
   "outputs": [],
   "source": [
    "# compiled_csvs.groupby('query_label').sample(n=5, random_state=1)"
   ]
  },
  {
   "cell_type": "markdown",
   "id": "38789f40-ee31-44dd-b268-6fa438f5b7c6",
   "metadata": {
    "tags": []
   },
   "source": [
    "## New Tweet Preprocessing"
   ]
  },
  {
   "cell_type": "code",
   "execution_count": 10,
   "id": "90738584-19f7-4c57-9a56-c9c6cdca635f",
   "metadata": {},
   "outputs": [
    {
     "name": "stderr",
     "output_type": "stream",
     "text": [
      "[nltk_data] Downloading package stopwords to\n",
      "[nltk_data]     C:\\Users\\russe\\AppData\\Roaming\\nltk_data...\n",
      "[nltk_data]   Package stopwords is already up-to-date!\n"
     ]
    },
    {
     "data": {
      "text/plain": [
       "True"
      ]
     },
     "execution_count": 10,
     "metadata": {},
     "output_type": "execute_result"
    }
   ],
   "source": [
    "import re\n",
    "from time import time\n",
    "import nltk\n",
    "from emoji import demojize\n",
    "nltk.download('stopwords')"
   ]
  },
  {
   "cell_type": "code",
   "execution_count": 11,
   "id": "49ba97b2-9f65-47e7-96ff-2484a62a3285",
   "metadata": {},
   "outputs": [
    {
     "name": "stdout",
     "output_type": "stream",
     "text": [
      "Time to clean up: 94.13 sec\n"
     ]
    }
   ],
   "source": [
    "# Time Start\n",
    "start = time()\n",
    "\n",
    "\n",
    "# Raw Text Data\n",
    "texts = compiled_csvs.text\n",
    "\n",
    "# Lowercase Text Conversion\n",
    "texts = texts.str.lower()\n",
    "\n",
    "# Special Character Removal\n",
    "texts = texts.str.replace(r\"(http|@)\\S+\", \"\",regex=True)\n",
    "texts = texts.apply(demojize)\n",
    "texts = texts.str.replace(r\"::\", \": :\",regex=True)\n",
    "texts = texts.str.replace(r\"’\", \"'\",regex=True)\n",
    "texts = texts.str.replace(r\"[^a-z\\':_]\", \" \",regex=True)\n",
    "\n",
    "# Repetition removal\n",
    "pattern = re.compile(r\"(.)\\1{2,}\", re.DOTALL)\n",
    "texts = texts.str.replace(pattern, r\"\\1\",regex=True)\n",
    "\n",
    "# Transform short negation form\n",
    "texts = texts.str.replace(r\"(can't|cannot)\", 'can not',regex=True)\n",
    "texts = texts.str.replace(r\"n't\", ' not',regex=True)\n",
    "\n",
    "# Stopword Removal\n",
    "stopwords = nltk.corpus.stopwords.words('english')\n",
    "## Keep Negation-Relevant wording\n",
    "stopwords.remove('not')\n",
    "stopwords.remove('nor')\n",
    "stopwords.remove('no')\n",
    "## Apply\n",
    "texts = texts.apply(lambda x: ' '.join([word for word in x.split() if word not in stopwords]))\n",
    "\n",
    "# Time End\n",
    "print(\"Time to clean up: {:.2f} sec\".format(time() - start))"
   ]
  },
  {
   "cell_type": "code",
   "execution_count": 12,
   "id": "66460707-2d9f-4306-b41c-eb471ca8942e",
   "metadata": {},
   "outputs": [
    {
     "data": {
      "text/html": [
       "<div>\n",
       "<style scoped>\n",
       "    .dataframe tbody tr th:only-of-type {\n",
       "        vertical-align: middle;\n",
       "    }\n",
       "\n",
       "    .dataframe tbody tr th {\n",
       "        vertical-align: top;\n",
       "    }\n",
       "\n",
       "    .dataframe thead th {\n",
       "        text-align: right;\n",
       "    }\n",
       "</style>\n",
       "<table border=\"1\" class=\"dataframe\">\n",
       "  <thead>\n",
       "    <tr style=\"text-align: right;\">\n",
       "      <th></th>\n",
       "      <th>label</th>\n",
       "      <th>text</th>\n",
       "      <th>text_cleaned</th>\n",
       "    </tr>\n",
       "  </thead>\n",
       "  <tbody>\n",
       "    <tr>\n",
       "      <th>0</th>\n",
       "      <td>anger</td>\n",
       "      <td>https://t.co/IZSFiF8Rw9 #angry #Dont Make Me A...</td>\n",
       "      <td>angry dont make angry wouldnt like im angry via</td>\n",
       "    </tr>\n",
       "    <tr>\n",
       "      <th>1</th>\n",
       "      <td>anger</td>\n",
       "      <td>„Furiosa“ is finished… #wut #rage #projekt #an...</td>\n",
       "      <td>furiosa finished wut rage projekt angry angrya...</td>\n",
       "    </tr>\n",
       "    <tr>\n",
       "      <th>2</th>\n",
       "      <td>anger</td>\n",
       "      <td>#Freak TFG is #angry #afraid https://t.co/ql68...</td>\n",
       "      <td>freak tfg angry afraid via assolini feeling ft...</td>\n",
       "    </tr>\n",
       "    <tr>\n",
       "      <th>3</th>\n",
       "      <td>anger</td>\n",
       "      <td>Gave up by NIN is such a good song to blast wh...</td>\n",
       "      <td>gave nin good song blast got fired got fired s...</td>\n",
       "    </tr>\n",
       "    <tr>\n",
       "      <th>4</th>\n",
       "      <td>anger</td>\n",
       "      <td>@HDMOVIESOURCE @UniversalPics This seems fair ...</td>\n",
       "      <td>seems fair respectful would've gone premium pr...</td>\n",
       "    </tr>\n",
       "  </tbody>\n",
       "</table>\n",
       "</div>"
      ],
      "text/plain": [
       "   label                                               text  \\\n",
       "0  anger  https://t.co/IZSFiF8Rw9 #angry #Dont Make Me A...   \n",
       "1  anger  „Furiosa“ is finished… #wut #rage #projekt #an...   \n",
       "2  anger  #Freak TFG is #angry #afraid https://t.co/ql68...   \n",
       "3  anger  Gave up by NIN is such a good song to blast wh...   \n",
       "4  anger  @HDMOVIESOURCE @UniversalPics This seems fair ...   \n",
       "\n",
       "                                        text_cleaned  \n",
       "0    angry dont make angry wouldnt like im angry via  \n",
       "1  furiosa finished wut rage projekt angry angrya...  \n",
       "2  freak tfg angry afraid via assolini feeling ft...  \n",
       "3  gave nin good song blast got fired got fired s...  \n",
       "4  seems fair respectful would've gone premium pr...  "
      ]
     },
     "execution_count": 12,
     "metadata": {},
     "output_type": "execute_result"
    }
   ],
   "source": [
    "compiled_csvs['text_cleaned'] = texts\n",
    "compiled_csvs.head()"
   ]
  }
 ],
 "metadata": {
  "kernelspec": {
   "display_name": "Python 3",
   "language": "python",
   "name": "python3"
  },
  "language_info": {
   "codemirror_mode": {
    "name": "ipython",
    "version": 3
   },
   "file_extension": ".py",
   "mimetype": "text/x-python",
   "name": "python",
   "nbconvert_exporter": "python",
   "pygments_lexer": "ipython3",
   "version": "3.8.8"
  }
 },
 "nbformat": 4,
 "nbformat_minor": 5
}
