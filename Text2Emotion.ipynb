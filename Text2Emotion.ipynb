{
 "cells": [
  {
   "cell_type": "code",
   "execution_count": 1,
   "id": "ce574d1e-0027-46e2-a9a1-3dc222d19ed7",
   "metadata": {},
   "outputs": [
    {
     "name": "stderr",
     "output_type": "stream",
     "text": [
      "[nltk_data] Downloading package stopwords to\n",
      "[nltk_data]     C:\\Users\\russe\\AppData\\Roaming\\nltk_data...\n",
      "[nltk_data]   Package stopwords is already up-to-date!\n",
      "[nltk_data] Downloading package punkt to\n",
      "[nltk_data]     C:\\Users\\russe\\AppData\\Roaming\\nltk_data...\n",
      "[nltk_data]   Package punkt is already up-to-date!\n",
      "[nltk_data] Downloading package wordnet to\n",
      "[nltk_data]     C:\\Users\\russe\\AppData\\Roaming\\nltk_data...\n",
      "[nltk_data]   Package wordnet is already up-to-date!\n"
     ]
    }
   ],
   "source": [
    "# Load Libraries and packages\n",
    "import numpy as np\n",
    "import pandas as pd\n",
    "\n",
    "import text2emotion as te"
   ]
  },
  {
   "cell_type": "code",
   "execution_count": 2,
   "id": "bd648576-ea30-45f2-b127-b215cf489399",
   "metadata": {},
   "outputs": [
    {
     "data": {
      "text/html": [
       "<div>\n",
       "<style scoped>\n",
       "    .dataframe tbody tr th:only-of-type {\n",
       "        vertical-align: middle;\n",
       "    }\n",
       "\n",
       "    .dataframe tbody tr th {\n",
       "        vertical-align: top;\n",
       "    }\n",
       "\n",
       "    .dataframe thead th {\n",
       "        text-align: right;\n",
       "    }\n",
       "</style>\n",
       "<table border=\"1\" class=\"dataframe\">\n",
       "  <thead>\n",
       "    <tr style=\"text-align: right;\">\n",
       "      <th></th>\n",
       "      <th>Document_No</th>\n",
       "      <th>Dominant_Topic</th>\n",
       "      <th>Topic_Keywords</th>\n",
       "      <th>Text</th>\n",
       "    </tr>\n",
       "  </thead>\n",
       "  <tbody>\n",
       "    <tr>\n",
       "      <th>0</th>\n",
       "      <td>0</td>\n",
       "      <td>9.0</td>\n",
       "      <td>car, call, company, tell, work, would, say, da...</td>\n",
       "      <td>Giving this location a low rating only because...</td>\n",
       "    </tr>\n",
       "    <tr>\n",
       "      <th>1</th>\n",
       "      <td>1</td>\n",
       "      <td>3.0</td>\n",
       "      <td>order, wait, ask, say, minute, table, take, te...</td>\n",
       "      <td>I'll start off by saying that this was my favo...</td>\n",
       "    </tr>\n",
       "    <tr>\n",
       "      <th>2</th>\n",
       "      <td>2</td>\n",
       "      <td>3.0</td>\n",
       "      <td>order, wait, ask, say, minute, table, take, te...</td>\n",
       "      <td>The mille crepe cake my sister gifted me for m...</td>\n",
       "    </tr>\n",
       "    <tr>\n",
       "      <th>3</th>\n",
       "      <td>3</td>\n",
       "      <td>7.0</td>\n",
       "      <td>pizza, restaurant, love, service, bar, order, ...</td>\n",
       "      <td>Go someplace else there are better hotels in t...</td>\n",
       "    </tr>\n",
       "    <tr>\n",
       "      <th>4</th>\n",
       "      <td>4</td>\n",
       "      <td>9.0</td>\n",
       "      <td>car, call, company, tell, work, would, say, da...</td>\n",
       "      <td>Used them a number of years ago and they were ...</td>\n",
       "    </tr>\n",
       "  </tbody>\n",
       "</table>\n",
       "</div>"
      ],
      "text/plain": [
       "   Document_No  Dominant_Topic  \\\n",
       "0            0             9.0   \n",
       "1            1             3.0   \n",
       "2            2             3.0   \n",
       "3            3             7.0   \n",
       "4            4             9.0   \n",
       "\n",
       "                                      Topic_Keywords  \\\n",
       "0  car, call, company, tell, work, would, say, da...   \n",
       "1  order, wait, ask, say, minute, table, take, te...   \n",
       "2  order, wait, ask, say, minute, table, take, te...   \n",
       "3  pizza, restaurant, love, service, bar, order, ...   \n",
       "4  car, call, company, tell, work, would, say, da...   \n",
       "\n",
       "                                                Text  \n",
       "0  Giving this location a low rating only because...  \n",
       "1  I'll start off by saying that this was my favo...  \n",
       "2  The mille crepe cake my sister gifted me for m...  \n",
       "3  Go someplace else there are better hotels in t...  \n",
       "4  Used them a number of years ago and they were ...  "
      ]
     },
     "execution_count": 2,
     "metadata": {},
     "output_type": "execute_result"
    }
   ],
   "source": [
    "col_names = ['Document_No', 'Dominant_Topic', 'Topic_Keywords', 'Text']\n",
    "data = pd.read_csv('data/top_dominant_results.csv', usecols=col_names)\n",
    "data.head()"
   ]
  },
  {
   "cell_type": "code",
   "execution_count": 16,
   "id": "3e4a21d4-9a9b-4fba-831a-6ad8f0edffbf",
   "metadata": {},
   "outputs": [
    {
     "name": "stdout",
     "output_type": "stream",
     "text": [
      "Walked in with my gf to grab some dinner, then noticed this place allows smoking in the restraunt area and the staff...well I have no idea because I didn't see any behind the bar or walking around, so I guess they were sitting down with customers or something.  Walked right back out after that.\n"
     ]
    }
   ],
   "source": [
    "text = data['Text'][6]\n",
    "print(text)"
   ]
  },
  {
   "cell_type": "code",
   "execution_count": 17,
   "id": "e328d6df-1977-47f8-a0fe-76a052b7fd4b",
   "metadata": {},
   "outputs": [
    {
     "data": {
      "text/plain": [
       "{'Happy': 0.0, 'Angry': 0.17, 'Surprise': 0.17, 'Sad': 0.17, 'Fear': 0.5}"
      ]
     },
     "execution_count": 17,
     "metadata": {},
     "output_type": "execute_result"
    }
   ],
   "source": [
    "te.get_emotion(text)"
   ]
  }
 ],
 "metadata": {
  "kernelspec": {
   "display_name": "Python 3",
   "language": "python",
   "name": "python3"
  },
  "language_info": {
   "codemirror_mode": {
    "name": "ipython",
    "version": 3
   },
   "file_extension": ".py",
   "mimetype": "text/x-python",
   "name": "python",
   "nbconvert_exporter": "python",
   "pygments_lexer": "ipython3",
   "version": "3.8.8"
  }
 },
 "nbformat": 4,
 "nbformat_minor": 5
}
